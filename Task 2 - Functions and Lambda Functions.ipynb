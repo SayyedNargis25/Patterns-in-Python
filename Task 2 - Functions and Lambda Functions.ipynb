{
 "cells": [
  {
   "cell_type": "markdown",
   "metadata": {},
   "source": [
    "# Task 2\n",
    "# Reg id : SIRSS1242\n",
    "# Name : Sayyed Nargis Fatima"
   ]
  },
  {
   "cell_type": "markdown",
   "metadata": {},
   "source": [
    "## Q1. Write a lambda expression to extract first word of a string."
   ]
  },
  {
   "cell_type": "code",
   "execution_count": 4,
   "metadata": {},
   "outputs": [
    {
     "name": "stdout",
     "output_type": "stream",
     "text": [
      "Enter a string: Hello everyone, have a nice day!\n",
      "Hello\n"
     ]
    }
   ],
   "source": [
    "s = input(\"Enter a string: \")\n",
    "a = (lambda x : [i for i in x if i[0].isalpha()][0])(s.split())\n",
    "print(a)"
   ]
  },
  {
   "cell_type": "markdown",
   "metadata": {},
   "source": [
    "## Q2. Write a function to extract first word of s string (with many words separated by space)."
   ]
  },
  {
   "cell_type": "code",
   "execution_count": 14,
   "metadata": {},
   "outputs": [
    {
     "name": "stdout",
     "output_type": "stream",
     "text": [
      "Enter a string: Hello hey how are you?\n"
     ]
    },
    {
     "data": {
      "text/plain": [
       "'Hello'"
      ]
     },
     "execution_count": 14,
     "metadata": {},
     "output_type": "execute_result"
    }
   ],
   "source": [
    "def first_word(s):\n",
    "    return s.split()[0]\n",
    "\n",
    "s = input(\"Enter a string: \")\n",
    "first_word(s)"
   ]
  },
  {
   "cell_type": "markdown",
   "metadata": {},
   "source": [
    "## Q3. Extract the first word from every string from a list of strings by using map function."
   ]
  },
  {
   "cell_type": "code",
   "execution_count": 16,
   "metadata": {},
   "outputs": [
    {
     "data": {
      "text/plain": [
       "['Hello', 'Avengers', 'Nice', 'Have']"
      ]
     },
     "execution_count": 16,
     "metadata": {},
     "output_type": "execute_result"
    }
   ],
   "source": [
    "l = ['Hello everyone', 'Avengers Assemble', 'Nice to meet you', 'Have a wonderful day']\n",
    "list(map(lambda x : x.split()[0], l))"
   ]
  },
  {
   "cell_type": "markdown",
   "metadata": {},
   "source": [
    "## Q4. Write a function to return a list of prime factors of a given number."
   ]
  },
  {
   "cell_type": "code",
   "execution_count": 15,
   "metadata": {},
   "outputs": [
    {
     "name": "stdout",
     "output_type": "stream",
     "text": [
      "Enter a number: 50\n",
      "2\n",
      "5\n",
      "5\n"
     ]
    }
   ],
   "source": [
    "import math\n",
    "\n",
    "def prime_factors(n):\n",
    "    while n%2==0:\n",
    "        print(2)\n",
    "        n = n / 2\n",
    "    for i in range(3, int(math.sqrt(n))+1,2):\n",
    "        while n % i == 0:\n",
    "            print(i)\n",
    "            n = n / i\n",
    "    if n > 2:\n",
    "        print(n)\n",
    "\n",
    "n = int(input(\"Enter a number: \"))\n",
    "prime_factors(n)"
   ]
  },
  {
   "cell_type": "markdown",
   "metadata": {},
   "source": [
    "## Q5. Write a function that finds 2nd largest among 4 numbers (Repetitions are allowed,\n",
    "## without sorting)."
   ]
  },
  {
   "cell_type": "code",
   "execution_count": 16,
   "metadata": {},
   "outputs": [
    {
     "name": "stdout",
     "output_type": "stream",
     "text": [
      "29  is second largest\n"
     ]
    }
   ],
   "source": [
    "def sec_largest(n1, n2, n3, n4):\n",
    "    if (n1 > n2) and (n1 > n3) and (n1 > n4):\n",
    "        if (n2 > n3) and (n2 > n4):\n",
    "            print(n2,' is second largest')\n",
    "        elif (n3 > n2) and (n3 > n4):\n",
    "            print(n3,' is second largest')\n",
    "        else:\n",
    "            print(n4,' is second largest')\n",
    "            \n",
    "    elif (n2 > n1) and (n2 > n3) and (n2 > n4):\n",
    "        if (n1 > n3) and (n1 > n4):\n",
    "            print(n1,' is second largest')\n",
    "        elif (n3 > n1) and (n3 > n4):\n",
    "            print(n3,' is second largest')\n",
    "        else:\n",
    "            print(n4,' is second largest')\n",
    "            \n",
    "    elif (n3 > n1) and (n3 > n2) and (n3 > n4):\n",
    "        if (n1 > n2) and (n1 > n4):\n",
    "            print(n1,' is second largest')\n",
    "        elif (n2 > n1) and (n2 > n4):\n",
    "            print(n2,' is second largest')\n",
    "        else:\n",
    "            print(n4,' is second largest')\n",
    "            \n",
    "    else:\n",
    "        if (n1 > n2) and (n1 > n3):\n",
    "            print(n1,' is second largest')\n",
    "        elif (n2 > n1) and (n2 > n3):\n",
    "            print(n2,' is second largest')\n",
    "        else:\n",
    "            print(n3,' is second largest')\n",
    "            \n",
    "sec_largest(10,24,29,50)"
   ]
  },
  {
   "cell_type": "markdown",
   "metadata": {},
   "source": [
    "# Thank You!"
   ]
  }
 ],
 "metadata": {
  "kernelspec": {
   "display_name": "Python 3",
   "language": "python",
   "name": "python3"
  },
  "language_info": {
   "codemirror_mode": {
    "name": "ipython",
    "version": 3
   },
   "file_extension": ".py",
   "mimetype": "text/x-python",
   "name": "python",
   "nbconvert_exporter": "python",
   "pygments_lexer": "ipython3",
   "version": "3.8.5"
  }
 },
 "nbformat": 4,
 "nbformat_minor": 4
}
