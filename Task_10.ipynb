{
 "cells": [
  {
   "cell_type": "markdown",
   "metadata": {},
   "source": [
    "# Task 10\n",
    "# Reg id : SIRSS1242\n",
    "# Name : Sayyed Nargis Fatima"
   ]
  },
  {
   "cell_type": "markdown",
   "metadata": {},
   "source": [
    "# Q1. Given an array arr[] of positive and negative numbers only.\n",
    "# The task is to find the length of the longest alternating (means negative-positive-negative or positive-negative-positive) subsequence present in the array.\n",
    "\n",
    "# Examples:\n",
    "\n",
    "# Input: arr[] = {-4, 3, -5, 9, 10, 12, 2, -1}\n",
    "\n",
    "# Output: 5\n",
    "\n",
    "# Explanation:\n",
    "# The longest sequence is {-4, 3, -5, 9, -1}, which is of length 5. There can be many more subsequences of this length."
   ]
  },
  {
   "cell_type": "code",
   "execution_count": 1,
   "metadata": {},
   "outputs": [],
   "source": [
    "def longest_alt_len(A):\n",
    "    maxLen = 1\n",
    "    endIndex = 0\n",
    "    currLen = 1\n",
    "    for i in range(1, len(A)):\n",
    "        if A[i] * A[i - 1] < 0:\n",
    "            currLen = currLen + 1\n",
    "            if currLen > maxLen:\n",
    "                maxLen = currLen\n",
    "                endIndex = i\n",
    "        else:\n",
    "            currLen = 1\n",
    " \n",
    "    sublist = A[endIndex - maxLen + 1: endIndex + 1]\n",
    "    print(\"The length of the longest alternating array is:\", len(sublist))"
   ]
  },
  {
   "cell_type": "code",
   "execution_count": 2,
   "metadata": {},
   "outputs": [
    {
     "name": "stdout",
     "output_type": "stream",
     "text": [
      "The length of the longest alternating array is: 4\n"
     ]
    }
   ],
   "source": [
    "l1 = [-4, 3, -5, 9, 10, 12, 2, -1]\n",
    "longest_alt_len(l1)"
   ]
  },
  {
   "cell_type": "markdown",
   "metadata": {},
   "source": [
    "# Q2. Given a sorted array of positive integers, rearrange the array alternately i.e first element should be the maximum value, second minimum value, third-second max, fourth-second min and so on.\n",
    "\n",
    "# Examples:\n",
    "# Input: arr[] = {1, 2, 3, 4, 5, 6, 7}\n",
    "\n",
    "# Output: arr[] = {7, 1, 6, 2, 5, 3, 4}"
   ]
  },
  {
   "cell_type": "code",
   "execution_count": 3,
   "metadata": {},
   "outputs": [],
   "source": [
    "\n",
    "def rearrange(arr, n):\n",
    "    temp = n*[None]\n",
    "    small, large = 0, n-1\n",
    "    flag = True\n",
    "    for i in range(n):\n",
    "        if flag is True:\n",
    "            temp[i] = arr[large]\n",
    "            large -= 1\n",
    "        else:\n",
    "            temp[i] = arr[small]\n",
    "            small += 1\n",
    " \n",
    "        flag = bool(1-flag)\n",
    "    for i in range(n):\n",
    "        arr[i] = temp[i]\n",
    "    return arr"
   ]
  },
  {
   "cell_type": "code",
   "execution_count": 4,
   "metadata": {},
   "outputs": [
    {
     "name": "stdout",
     "output_type": "stream",
     "text": [
      "Original Sorted Array\n",
      "[1, 2, 3, 4, 5, 6, 7]\n",
      "Rearranged Array\n",
      "[7, 1, 6, 2, 5, 3, 4]\n"
     ]
    }
   ],
   "source": [
    "arr1 = [1, 2, 3, 4, 5, 6, 7]\n",
    "n = len(arr1)\n",
    "print(\"Original Sorted Array\")\n",
    "print(arr1)\n",
    "print(\"Rearranged Array\")\n",
    "print(rearrange(arr1, n))"
   ]
  },
  {
   "cell_type": "markdown",
   "metadata": {},
   "source": [
    "# Q3. Given an array arr of N integers. Find the contiguous sub-array with maximum sum.\n",
    "# Example 1:\n",
    "\n",
    "# Input:\n",
    "# arr[] = {1,2,3,-2,5}\n",
    "\n",
    "# Output:\n",
    "# 9\n",
    "\n",
    "# Explanation:\n",
    "# Max subarray sum is 9 of elements (1, 2, 3, -2, 5) which is a contiguous subarray."
   ]
  },
  {
   "cell_type": "code",
   "execution_count": 5,
   "metadata": {},
   "outputs": [],
   "source": [
    "def maximum_sum(A):\n",
    "    max_so_far = 0\n",
    "    max_ending_here = 0\n",
    "    for i in A:\n",
    "        max_ending_here = max_ending_here + i\n",
    "        max_ending_here = max(max_ending_here, 0)\n",
    "        max_so_far = max(max_so_far, max_ending_here)\n",
    " \n",
    "    return max_so_far"
   ]
  },
  {
   "cell_type": "code",
   "execution_count": 6,
   "metadata": {},
   "outputs": [
    {
     "name": "stdout",
     "output_type": "stream",
     "text": [
      "The contiguous sub-array with the maximum sum is 9\n"
     ]
    }
   ],
   "source": [
    "l1 = [1,2,3,-2,5]\n",
    "print(\"The contiguous sub-array with the maximum sum is\",maximum_sum(l1))"
   ]
  },
  {
   "cell_type": "markdown",
   "metadata": {},
   "source": [
    "# Q4. Chain Marketing Organization has a scheme for income generation, through which its members generate income for themselves. \n",
    "# The scheme is such that suppose A joins the scheme and makes R and V join this scheme then A is Parent Member of R and V who are child Members. \n",
    "# When any member joins the scheme then the parent gets a total commission of 10% from each of its child members. \n",
    "# Child members receive a commission of 5% respectively. \n",
    "# If a parent member does not have any member joined under him, then he gets a commission of 5%. \n",
    "# Take the name of the members joining the scheme as input. \n",
    "# Display how many members joined the scheme including parent members. \n",
    "# Calculate theTotal commission gained by each member in the scheme.\n",
    "# The fixed amount for joining the scheme is Rs.5000 on which commission will be generated SchemeAmount = 5000"
   ]
  },
  {
   "cell_type": "code",
   "execution_count": 7,
   "metadata": {},
   "outputs": [
    {
     "name": "stdout",
     "output_type": "stream",
     "text": [
      "hannah\n",
      "Y\n",
      "Amit\n",
      "TOTAL MEMBERS:2\n",
      "COMMISSION DETAILS \n",
      "hannah:500 INR\n",
      "Amit:250 INR\n"
     ]
    }
   ],
   "source": [
    "parent = input()\n",
    "Yes_No = input()\n",
    "if Yes_No == \"N\":\n",
    "    print(\"TOTAL MEMBERS:1\\nCOMMISSION DETAILS\\n{0}: 250 INR\".format(parent))\n",
    "elif Yes_No == \"Y\":\n",
    "    child=list(map(str,input().split(\",\")))\n",
    "    print(\"TOTAL MEMBERS:{}\".format(len(child)+1))\n",
    "    print(\"COMMISSION DETAILS \\n{0}:{1} INR\".format(parent,len(child)*500))\n",
    "    for i in child:\n",
    "        print(\"{0}:250 INR\".format(i))"
   ]
  },
  {
   "cell_type": "markdown",
   "metadata": {},
   "source": [
    "# Thank You!"
   ]
  }
 ],
 "metadata": {
  "kernelspec": {
   "display_name": "Python 3",
   "language": "python",
   "name": "python3"
  },
  "language_info": {
   "codemirror_mode": {
    "name": "ipython",
    "version": 3
   },
   "file_extension": ".py",
   "mimetype": "text/x-python",
   "name": "python",
   "nbconvert_exporter": "python",
   "pygments_lexer": "ipython3",
   "version": "3.8.5"
  }
 },
 "nbformat": 4,
 "nbformat_minor": 4
}
