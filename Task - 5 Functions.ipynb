{
 "cells": [
  {
   "cell_type": "markdown",
   "metadata": {},
   "source": [
    "# Task 5\n",
    "# Reg id : SIRSS1242\n",
    "# Name : Sayyed Nargis Fatima"
   ]
  },
  {
   "cell_type": "markdown",
   "metadata": {},
   "source": [
    "## Q1. Given a list of integers, write a function to return the sum of all prime numbers in that list."
   ]
  },
  {
   "cell_type": "code",
   "execution_count": 1,
   "metadata": {},
   "outputs": [
    {
     "name": "stdout",
     "output_type": "stream",
     "text": [
      "2\n",
      "3\n",
      "5\n",
      "11\n",
      "13\n"
     ]
    },
    {
     "data": {
      "text/plain": [
       "34"
      ]
     },
     "execution_count": 1,
     "metadata": {},
     "output_type": "execute_result"
    }
   ],
   "source": [
    "def c_prime(n):\n",
    "    if n==1 or n==0:\n",
    "        return 0\n",
    "    for i in range(2,int(n**0.5)+1):\n",
    "        if n%i==0:\n",
    "            return 0\n",
    "    return 1\n",
    "def sum_of_primes(lst):\n",
    "    sum=0\n",
    "    for i in lst:\n",
    "        if c_prime(i):\n",
    "            print(i)\n",
    "            sum+=i\n",
    "    return sum\n",
    "sum_of_primes([0,1,2,3,4,5,10,11,12,13,14,15])"
   ]
  },
  {
   "cell_type": "markdown",
   "metadata": {},
   "source": [
    "## Q2. Given a list of integers, write a function to check whether the list is strictly increasing or not."
   ]
  },
  {
   "cell_type": "code",
   "execution_count": 2,
   "metadata": {},
   "outputs": [
    {
     "data": {
      "text/plain": [
       "True"
      ]
     },
     "execution_count": 2,
     "metadata": {},
     "output_type": "execute_result"
    }
   ],
   "source": [
    "def increasing(ls):\n",
    "    l=len(ls)\n",
    "    for i in range(1, l):\n",
    "        if ls[i] < ls[i-1]:\n",
    "            return False\n",
    "        return True\n",
    "    \n",
    "increasing([0,1,2,3,4,5,6])"
   ]
  },
  {
   "cell_type": "markdown",
   "metadata": {},
   "source": [
    "## Q3. Write a function to check whether a given list is expanding or not (the difference between adjacent elements should keep on increasing)."
   ]
  },
  {
   "cell_type": "code",
   "execution_count": 5,
   "metadata": {},
   "outputs": [
    {
     "data": {
      "text/plain": [
       "False"
      ]
     },
     "execution_count": 5,
     "metadata": {},
     "output_type": "execute_result"
    }
   ],
   "source": [
    "def expanding(l):\n",
    "    d1 = abs(l[1] - l[0])\n",
    "    d2 = abs(l[2] - l[1])\n",
    "    \n",
    "    if d1 >= d2:\n",
    "        return False\n",
    "    else:\n",
    "        for i in range(3, len(l)):\n",
    "            d3 = abs(l[i] - l[i-1])\n",
    "            if d3 <= d2:\n",
    "                return False\n",
    "            d2 = d3\n",
    "        else:\n",
    "            return True\n",
    "        \n",
    "#expanding([1,3,7,2,9])    # Expanding - True\n",
    "\n",
    "expanding([1,3,7,5,9])   # Not Expanding - False"
   ]
  },
  {
   "cell_type": "markdown",
   "metadata": {},
   "source": [
    "## Q4. Write a function to calculate all permutations of a given string. (Without using itertools)"
   ]
  },
  {
   "cell_type": "code",
   "execution_count": 9,
   "metadata": {},
   "outputs": [
    {
     "name": "stdout",
     "output_type": "stream",
     "text": [
      "AAA\n",
      "AAB\n",
      "AAC\n",
      "ABA\n",
      "ABB\n",
      "ABC\n",
      "ACA\n",
      "ACB\n",
      "ACC\n",
      "BAA\n",
      "BAB\n",
      "BAC\n",
      "BBA\n",
      "BBB\n",
      "BBC\n",
      "BCA\n",
      "BCB\n",
      "BCC\n",
      "CAA\n",
      "CAB\n",
      "CAC\n",
      "CBA\n",
      "CBB\n",
      "CBC\n",
      "CCA\n",
      "CCB\n",
      "CCC\n"
     ]
    }
   ],
   "source": [
    "def permute(s):\n",
    "    base = len(s)\n",
    "    for n in range(base**base):\n",
    "        yield \"\".join(s[n // base**(base-d-1) % base] for d in range(base))\n",
    "        \n",
    "for p in permute(\"ABC\"):\n",
    "    print(p)"
   ]
  },
  {
   "cell_type": "code",
   "execution_count": null,
   "metadata": {},
   "outputs": [],
   "source": []
  }
 ],
 "metadata": {
  "kernelspec": {
   "display_name": "Python 3",
   "language": "python",
   "name": "python3"
  },
  "language_info": {
   "codemirror_mode": {
    "name": "ipython",
    "version": 3
   },
   "file_extension": ".py",
   "mimetype": "text/x-python",
   "name": "python",
   "nbconvert_exporter": "python",
   "pygments_lexer": "ipython3",
   "version": "3.8.5"
  }
 },
 "nbformat": 4,
 "nbformat_minor": 4
}
