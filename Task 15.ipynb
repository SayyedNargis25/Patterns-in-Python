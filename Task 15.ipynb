{
 "cells": [
  {
   "cell_type": "markdown",
   "metadata": {},
   "source": [
    "# Task 15\n",
    "# Reg id : SIRSS1242\n",
    "# Name : Sayyed Nargis Fatima"
   ]
  },
  {
   "cell_type": "markdown",
   "metadata": {},
   "source": [
    "### Q.1) Given an array Arr of N positive integers, find K largest elements from the array. The output elements should be printed in decreasing order."
   ]
  },
  {
   "cell_type": "code",
   "execution_count": 1,
   "metadata": {},
   "outputs": [],
   "source": [
    "def KL(arr,k):\n",
    "    arr.sort(reverse=True)\n",
    "    \n",
    "    for i in range(k):\n",
    "        print(arr[i],end=\" \")"
   ]
  },
  {
   "cell_type": "code",
   "execution_count": 2,
   "metadata": {},
   "outputs": [
    {
     "name": "stdout",
     "output_type": "stream",
     "text": [
      "787 23 "
     ]
    }
   ],
   "source": [
    "arr=[12,5,787,1,23]\n",
    "k=2\n",
    "KL(arr,k)"
   ]
  },
  {
   "cell_type": "markdown",
   "metadata": {},
   "source": [
    "### Q.2) You are given weights and values of N items, put these items in a knapsack of capacity W to get the maximum total value in the knapsack.\n",
    "### Note that we have only one quantity of each item. In other words, given two integer arrays val[0..N-1] and wt[0..N-1] which represent values and weights associated with N items respectively. Also given an integer W which represents knapsack capacity, find out the maximum value subset of val[] such that sum of the weights of this subset is smaller than or equal to W. \n",
    "### You cannot break an item, either pick the complete item or don’t pick it (0-1 property)."
   ]
  },
  {
   "cell_type": "code",
   "execution_count": 3,
   "metadata": {},
   "outputs": [],
   "source": [
    "def KS(w,wt,val,n):\n",
    "    if n==0 or w==0:\n",
    "        return 0\n",
    "    \n",
    "    if (wt[n-1]>w):\n",
    "        return KS(w,wt,val,n-1)\n",
    "    \n",
    "    else:\n",
    "        return max(val[n-1]+KS(w-wt[n-1],wt,val,n-1),KS(w,wt,val,n-1))"
   ]
  },
  {
   "cell_type": "code",
   "execution_count": 4,
   "metadata": {},
   "outputs": [
    {
     "name": "stdout",
     "output_type": "stream",
     "text": [
      "3\n"
     ]
    }
   ],
   "source": [
    "val=[1,2,3]\n",
    "wt=[4,5,1]\n",
    "w=4\n",
    "n=len(val)\n",
    "print(KS(w,wt,val,n))\n",
    "\n"
   ]
  },
  {
   "cell_type": "markdown",
   "metadata": {},
   "source": [
    "### Q.3) Given two sequences, find the length of longest subsequence present in both of them. Both the strings are of uppercase."
   ]
  },
  {
   "cell_type": "code",
   "execution_count": 5,
   "metadata": {},
   "outputs": [],
   "source": [
    "def LCSLength(X, Y, m, n):\n",
    "    if m == 0 or n == 0:\n",
    "        return 0\n",
    "\n",
    "    if X[m - 1] == Y[n - 1]:\n",
    "        return LCSLength(X, Y, m - 1, n - 1) + 1\n",
    "\n",
    "    return max(LCSLength(X, Y, m, n - 1), LCSLength(X, Y, m - 1, n))"
   ]
  },
  {
   "cell_type": "code",
   "execution_count": 6,
   "metadata": {},
   "outputs": [
    {
     "name": "stdout",
     "output_type": "stream",
     "text": [
      "Length is  3\n"
     ]
    }
   ],
   "source": [
    "X=\"ABCDGH\"\n",
    "Y=\"AEDFHR\"\n",
    "print(\"Length is \",LCSLength(X, Y, len(X), len(Y)))"
   ]
  },
  {
   "cell_type": "markdown",
   "metadata": {},
   "source": [
    "# Thank You!"
   ]
  }
 ],
 "metadata": {
  "kernelspec": {
   "display_name": "Python 3",
   "language": "python",
   "name": "python3"
  },
  "language_info": {
   "codemirror_mode": {
    "name": "ipython",
    "version": 3
   },
   "file_extension": ".py",
   "mimetype": "text/x-python",
   "name": "python",
   "nbconvert_exporter": "python",
   "pygments_lexer": "ipython3",
   "version": "3.8.5"
  }
 },
 "nbformat": 4,
 "nbformat_minor": 4
}
