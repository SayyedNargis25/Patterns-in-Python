{
 "cells": [
  {
   "cell_type": "markdown",
   "metadata": {},
   "source": [
    "# Task 12\n",
    "# Reg id : SIRSS1242\n",
    "# Name : Sayyed Nargis Fatima"
   ]
  },
  {
   "cell_type": "markdown",
   "metadata": {},
   "source": [
    "# Q1. Given an array of size n, find all elements in array that appear more than n/k times."
   ]
  },
  {
   "cell_type": "code",
   "execution_count": 1,
   "metadata": {},
   "outputs": [],
   "source": [
    "def morethanNbyK(arr, n, k) :\n",
    "    x = n // k\n",
    "    freq = {}  \n",
    "    for i in range(n) :   \n",
    "        if arr[i] in freq :\n",
    "            freq[arr[i]] += 1\n",
    "        else :\n",
    "            freq[arr[i]] = 1\n",
    "    for i in freq :\n",
    "        if (freq[i] > x) :\n",
    "            print(i, end=\" \")"
   ]
  },
  {
   "cell_type": "code",
   "execution_count": 2,
   "metadata": {},
   "outputs": [
    {
     "name": "stdout",
     "output_type": "stream",
     "text": [
      "3 2 "
     ]
    }
   ],
   "source": [
    "a = [3, 1, 2, 2, 1, 2, 3, 3]\n",
    "n = len(a)\n",
    "k = 4\n",
    "  \n",
    "morethanNbyK(a, n, k)"
   ]
  },
  {
   "cell_type": "markdown",
   "metadata": {},
   "source": [
    "# Q2. Given an array of size n and a range [a, b].\n",
    "# The task is to partition the array around the range such that array is divided into three parts.\n",
    "# 1) All elements smaller than a come first.\n",
    "# 2) All elements in range a to b come next.\n",
    "# 3) All elements greater than b appear in the end.\n",
    "# The individual elements of three sets can appear in any order.\n",
    "# You are required to return the modified array."
   ]
  },
  {
   "cell_type": "code",
   "execution_count": 3,
   "metadata": {},
   "outputs": [],
   "source": [
    "def threeWayPartition(arr, n, a, b):\n",
    "    start = 0\n",
    "    end = n - 1\n",
    "    i = 0\n",
    "    while i <= end:\n",
    "        if arr[i] < a:\n",
    "            temp = arr[i]\n",
    "            arr[i] = arr[start]\n",
    "            arr[start] = temp\n",
    "            i += 1\n",
    "            start += 1\n",
    "        elif arr[i] > b:\n",
    "            temp = arr[i]\n",
    "            arr[i] = arr[end]\n",
    "            arr[end] = temp\n",
    "            end -= 1\n",
    " \n",
    "        else:\n",
    "            i += 1   "
   ]
  },
  {
   "cell_type": "code",
   "execution_count": 4,
   "metadata": {},
   "outputs": [
    {
     "name": "stdout",
     "output_type": "stream",
     "text": [
      "1 2 3 4 3 "
     ]
    }
   ],
   "source": [
    "arr = [1, 2, 3, 3, 4]\n",
    "n = len(arr)\n",
    "threeWayPartition(arr, n, 1, 2)\n",
    "for i in range(n):\n",
    "    print(arr[i], end = \" \")"
   ]
  },
  {
   "cell_type": "markdown",
   "metadata": {},
   "source": [
    "# Q3. Given an array of integers (A[]) and a number x, find the smallest subarray with sum greater than the given value.\n",
    "# Note: The answer always exists.\n",
    "# It is guaranteed that x doesn't exceed the summation of a[i] (from 1 to N)."
   ]
  },
  {
   "cell_type": "code",
   "execution_count": 5,
   "metadata": {},
   "outputs": [],
   "source": [
    "def smallestSubWithSum(arr, n, x):\n",
    "    min_len = n + 1\n",
    "    for start in range(0,n):\n",
    "        curr_sum = arr[start]\n",
    "        if (curr_sum > x):\n",
    "            return 1\n",
    "        for end in range(start+1,n):\n",
    "            curr_sum += arr[end]\n",
    "            if curr_sum > x and (end - start + 1) < min_len:\n",
    "                min_len = (end - start + 1)         \n",
    "    return min_len"
   ]
  },
  {
   "cell_type": "code",
   "execution_count": 6,
   "metadata": {},
   "outputs": [
    {
     "name": "stdout",
     "output_type": "stream",
     "text": [
      "3\n"
     ]
    }
   ],
   "source": [
    "arr1 = [1, 4, 45, 6, 0, 19]\n",
    "x = 51\n",
    "n1 = len(arr1)\n",
    "res1 = smallestSubWithSum(arr1, n1, x);\n",
    "if res1 == n1+1:\n",
    "    print(\"Not possible\")\n",
    "else:\n",
    "    print(res1)"
   ]
  },
  {
   "cell_type": "markdown",
   "metadata": {},
   "source": [
    "# Q4. Estimating the cost\n",
    "# Problem Statement – We want to estimate the cost of painting a property. Interior wall painting cost is Rs.18 per sq.ft and exterior wall painting cost is Rs.12 per sq.ft.\n",
    "# Take input as\n",
    "# 1. Number of Interior walls\n",
    "# 2. Number of Exterior walls\n",
    "# 3. Surface Area of each Interior 4. Wall in units of square feet\n",
    "# Surface Area of each exterior wall in units of square feet.\n",
    "# Note – If a user enters zero as the number of walls then skip surface area values as user may don’t want to paint that wall."
   ]
  },
  {
   "cell_type": "code",
   "execution_count": 7,
   "metadata": {},
   "outputs": [
    {
     "name": "stdout",
     "output_type": "stream",
     "text": [
      "6\n",
      "3\n",
      "12.5\n",
      "12.00\n",
      "10.5\n",
      "12.3\n",
      "15.9\n",
      "10.2\n",
      "12.3\n",
      "10.00\n",
      "12.34\n",
      "Total estimated Cost :  1736.8799999999999 INR\n"
     ]
    }
   ],
   "source": [
    "interior_walls = int(input())\n",
    "exterior_walls = int(input())\n",
    "if interior_walls:\n",
    "    int_walls = []\n",
    "    for i in range(interior_walls):\n",
    "        int_walls.append(float(input()))\n",
    "\n",
    "if exterior_walls:\n",
    "    ext_walls = []\n",
    "    for i in range(exterior_walls):\n",
    "        ext_walls.append(float(input()))\n",
    "if exterior_walls < 0 or interior_walls < 0:\n",
    "    print(\"Invalid Input\")\n",
    "    exit()\n",
    "if exterior_walls and interior_walls:\n",
    "    print(\"Total estimated Cost : \",(sum(int_walls)*18+sum(ext_walls)*12),\"INR\")\n",
    "else:\n",
    "    if exterior_walls:\n",
    "        print(\"Total estimated Cost : \",sum(ext_walls)*12,\"INR\")\n",
    "    elif interior_walls:\n",
    "         print(\"Total estimated Cost : \",sum(int_walls)*18,\"INR\")\n",
    "    else:\n",
    "        print(\"Total estimated Cost : 0.0 INR\")"
   ]
  },
  {
   "cell_type": "markdown",
   "metadata": {},
   "source": [
    "# Thank You!"
   ]
  }
 ],
 "metadata": {
  "kernelspec": {
   "display_name": "Python 3",
   "language": "python",
   "name": "python3"
  },
  "language_info": {
   "codemirror_mode": {
    "name": "ipython",
    "version": 3
   },
   "file_extension": ".py",
   "mimetype": "text/x-python",
   "name": "python",
   "nbconvert_exporter": "python",
   "pygments_lexer": "ipython3",
   "version": "3.8.5"
  }
 },
 "nbformat": 4,
 "nbformat_minor": 4
}
