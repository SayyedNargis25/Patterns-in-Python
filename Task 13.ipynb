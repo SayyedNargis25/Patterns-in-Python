{
 "cells": [
  {
   "cell_type": "markdown",
   "metadata": {},
   "source": [
    "# Task 13\n",
    "# Reg id : SIRSS1242\n",
    "# Name : Sayyed Nargis Fatima"
   ]
  },
  {
   "cell_type": "markdown",
   "metadata": {},
   "source": [
    "# Q1. Given a square matrix, turn it by 90 degrees in a clockwise direction without using any extra space."
   ]
  },
  {
   "cell_type": "code",
   "execution_count": 1,
   "metadata": {},
   "outputs": [],
   "source": [
    "def rotate90Clockwise(A):\n",
    "    N = len(A[0])\n",
    "    for i in range(N // 2):\n",
    "        for j in range(i, N - i - 1):\n",
    "            temp = A[i][j]\n",
    "            A[i][j] = A[N - 1 - j][i]\n",
    "            A[N - 1 - j][i] = A[N - 1 - i][N - 1 - j]\n",
    "            A[N - 1 - i][N - 1 - j] = A[j][N - 1 - i]\n",
    "            A[j][N - 1 - i] = temp\n",
    "\n",
    "def printMatrix(A):\n",
    "    N = len(A[0])\n",
    "    for i in range(N):\n",
    "        print(A[i])"
   ]
  },
  {
   "cell_type": "code",
   "execution_count": 2,
   "metadata": {},
   "outputs": [
    {
     "name": "stdout",
     "output_type": "stream",
     "text": [
      "[7, 4, 1]\n",
      "[8, 5, 2]\n",
      "[9, 6, 3]\n"
     ]
    }
   ],
   "source": [
    "A = [[1,2,3],\n",
    "    [4,5,6],\n",
    "    [7,8,9]]\n",
    "rotate90Clockwise(A)\n",
    "printMatrix(A)"
   ]
  },
  {
   "cell_type": "markdown",
   "metadata": {},
   "source": [
    "# Q2. Given a string S, check if it is palindrome or not."
   ]
  },
  {
   "cell_type": "code",
   "execution_count": 3,
   "metadata": {},
   "outputs": [],
   "source": [
    "def isPalindrome(s):\n",
    "    if s == s[::-1]:\n",
    "        return 1\n",
    "    return 0"
   ]
  },
  {
   "cell_type": "code",
   "execution_count": 5,
   "metadata": {},
   "outputs": [
    {
     "name": "stdout",
     "output_type": "stream",
     "text": [
      "Enter String: abaf\n"
     ]
    },
    {
     "data": {
      "text/plain": [
       "0"
      ]
     },
     "execution_count": 5,
     "metadata": {},
     "output_type": "execute_result"
    }
   ],
   "source": [
    "s = input(\"Enter String: \")\n",
    "isPalindrome(s)"
   ]
  },
  {
   "cell_type": "markdown",
   "metadata": {},
   "source": [
    "# Q3. Given an expression string x. Examine whether the pairs and the orders of “{“,”}”,”(“,”)”,”[“,”]” are correct in exp."
   ]
  },
  {
   "cell_type": "code",
   "execution_count": 6,
   "metadata": {},
   "outputs": [],
   "source": [
    "def expr(x):\n",
    "    stack = []\n",
    "    for char in x:\n",
    "        if char in [\"(\", \"{\", \"[\"]:\n",
    "            stack.append(char)\n",
    "        else:\n",
    "            if not stack:\n",
    "                return False\n",
    "            current_char = stack.pop()\n",
    "            if current_char == '(':\n",
    "                if char != \")\":\n",
    "                    return False\n",
    "            if current_char == '{':\n",
    "                if char != \"}\":\n",
    "                    return False\n",
    "            if current_char == '[':\n",
    "                if char != \"]\":\n",
    "                    return False\n",
    "    if stack:\n",
    "        return False\n",
    "    return True"
   ]
  },
  {
   "cell_type": "code",
   "execution_count": 7,
   "metadata": {},
   "outputs": [
    {
     "name": "stdout",
     "output_type": "stream",
     "text": [
      "True\n"
     ]
    }
   ],
   "source": [
    "x = \"{([])}\"\n",
    "if expr(x):\n",
    "    print(\"True\")\n",
    "else:\n",
    "    print(\"False\")"
   ]
  },
  {
   "cell_type": "markdown",
   "metadata": {},
   "source": [
    "# Q4. Problem Statement: \n",
    "## Selection of MPCS exams include a fitness test which is conducted on ground. There will be a batch of 3 trainees, appearing for running test in track for 3rounds. You need to record their oxygen level after every round. After the trainees are finished with all rounds, calculate for each trainee his average oxygen level over the 3 rounds and select one with highest oxygen level as the most fit trainee. Thus, if more than one trainee attains the same highest average level, then all need to be selected. Display the most fit trainee (or trainees) and the highest average oxygen level."
   ]
  },
  {
   "cell_type": "code",
   "execution_count": 8,
   "metadata": {},
   "outputs": [
    {
     "name": "stdout",
     "output_type": "stream",
     "text": [
      "92\n",
      "94\n",
      "93\n",
      "95\n",
      "92\n",
      "95\n",
      "96\n",
      "97\n",
      "05\n",
      "Trainee Number:  1\n",
      "Trainee Number:  2\n",
      "Trainee 3 is unfit\n"
     ]
    }
   ],
   "source": [
    "trainee = [[],[],[],[]]\n",
    "for i in range(3):\n",
    "    for j in range(3):\n",
    "            trainee[i].append(int(input()))\n",
    "            if (trainee[i][-1]) not in range(1,101):\n",
    "                    print(\"invalid input\")\n",
    "for i in range(3):\n",
    "    trainee[3].append((trainee[2][i]+trainee[1][i]+trainee[0][i])//3)\n",
    "maximum = max(trainee[3])\n",
    "for i in range(3):\n",
    "    if trainee[3][i] < 70 :\n",
    "            print(\"Trainee {0} is unfit\".format(i+1))\n",
    "    elif trainee[3][i] == maximum:\n",
    "            print(\"Trainee Number: \",i+1)"
   ]
  },
  {
   "cell_type": "markdown",
   "metadata": {},
   "source": [
    "# Thank You!"
   ]
  }
 ],
 "metadata": {
  "kernelspec": {
   "display_name": "Python 3",
   "language": "python",
   "name": "python3"
  },
  "language_info": {
   "codemirror_mode": {
    "name": "ipython",
    "version": 3
   },
   "file_extension": ".py",
   "mimetype": "text/x-python",
   "name": "python",
   "nbconvert_exporter": "python",
   "pygments_lexer": "ipython3",
   "version": "3.8.5"
  }
 },
 "nbformat": 4,
 "nbformat_minor": 4
}
